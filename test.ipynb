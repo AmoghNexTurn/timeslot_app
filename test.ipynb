{
 "cells": [
  {
   "cell_type": "code",
   "execution_count": 1,
   "id": "06523a95",
   "metadata": {},
   "outputs": [
    {
     "name": "stdout",
     "output_type": "stream",
     "text": [
      "Note: you may need to restart the kernel to use updated packages.\n"
     ]
    },
    {
     "name": "stderr",
     "output_type": "stream",
     "text": [
      "c:\\Users\\amogh\\Desktop\\NexTurn\\timeslot_app\\.venv\\Scripts\\python.exe: No module named pip\n"
     ]
    }
   ],
   "source": [
    "%pip install flask-apscheduler"
   ]
  },
  {
   "cell_type": "code",
   "execution_count": 4,
   "id": "87b948af",
   "metadata": {},
   "outputs": [],
   "source": [
    "from datetime import datetime\n",
    "import psycopg2\n",
    "import os\n",
    "\n",
    "def get_db_connection():\n",
    "    conn = psycopg2.connect(\n",
    "        host='localhost',\n",
    "        dbname=os.getenv('POSTGRES_DB'),\n",
    "        user=os.getenv('POSTGRES_USER'),\n",
    "        password=os.getenv('POSTGRES_PASSWORD')\n",
    "    )\n",
    "    return conn\n",
    "\n",
    "def slot_not_inside(slots1, slots2):\n",
    "    for i in range(7):\n",
    "        if not (slots2[i][0] <= slots1[i][0] <= slots1[i][1] <= slots2[i][1]):\n",
    "            return True\n",
    "    return False\n",
    "\n",
    "def slot_overlap(slots1, slots2):\n",
    "    for i in range(7):\n",
    "        if (slots1[i][0] == -1 and slots1[i][1] == -1) or (slots2[i][0] == -1 and slots2[i][1] == -1):\n",
    "            continue\n",
    "        if (slots2[i][0] <= slots1[i][0] <= slots2[i][1]) or (slots2[i][0] <= slots1[i][1] <= slots2[i][1]):\n",
    "            return True\n",
    "    return False\n",
    "\n",
    "def date_overlap(start_date1, end_date1, start_date2, end_date2):\n",
    "    return start_date1 <= end_date2 and start_date2 <= end_date1\n",
    "\n",
    "def conflict(StartDate: str, EndDate: str, HoursBooked: list, WorkerName: str) -> bool:\n",
    "    \"\"\"Function to check for conflicts in bookings\"\"\"\n",
    "    for h in range(len(HoursBooked)):\n",
    "        if len(HoursBooked[h]) == 0:\n",
    "            HoursBooked[h] = [-1, -1]\n",
    "    conn = get_db_connection()\n",
    "    cur = conn.cursor()\n",
    "    cur.execute(\"Select AvailableHours from availability where WorkerName = %s;\", (WorkerName,))\n",
    "    availability = cur.fetchone()[0]\n",
    "    \n",
    "    if len(availability) != 0:\n",
    "        if slot_not_inside(HoursBooked, availability):\n",
    "            return True\n",
    "    cur.execute(\"SELECT StartDate, EndDate, HoursBooked from bookings where WorkerName = %s;\", (WorkerName,))\n",
    "    bookings = cur.fetchall()\n",
    "    if len(bookings) != 0:\n",
    "        StartDate = datetime.strptime(StartDate, '%Y%m%d').date()\n",
    "        EndDate = datetime.strptime(EndDate, '%Y%m%d').date()\n",
    "        for b in bookings:\n",
    "            if date_overlap(StartDate, EndDate, b[0], b[1]) and slot_overlap(HoursBooked, b[2]):\n",
    "                print(\"Conflict with booking:\", b, StartDate, EndDate, HoursBooked)\n",
    "                return True\n",
    "    return False\n",
    "\n",
    "def hourly_bid_accept() -> str:\n",
    "    conn = get_db_connection()\n",
    "    cur = conn.cursor()\n",
    "    cur.execute(\"SELECT username from users where usertype='worker';\")\n",
    "    workers = cur.fetchall()\n",
    "    print(workers)"
   ]
  },
  {
   "cell_type": "code",
   "execution_count": 5,
   "id": "dcd22ca5",
   "metadata": {},
   "outputs": [
    {
     "name": "stdout",
     "output_type": "stream",
     "text": [
      "[('abc',)]\n"
     ]
    }
   ],
   "source": [
    "hourly_bid_accept()"
   ]
  }
 ],
 "metadata": {
  "kernelspec": {
   "display_name": "timeslot_app",
   "language": "python",
   "name": "python3"
  },
  "language_info": {
   "codemirror_mode": {
    "name": "ipython",
    "version": 3
   },
   "file_extension": ".py",
   "mimetype": "text/x-python",
   "name": "python",
   "nbconvert_exporter": "python",
   "pygments_lexer": "ipython3",
   "version": "3.13.9"
  }
 },
 "nbformat": 4,
 "nbformat_minor": 5
}
