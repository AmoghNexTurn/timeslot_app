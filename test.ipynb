{
 "cells": [
  {
   "cell_type": "code",
   "execution_count": 2,
   "id": "87b948af",
   "metadata": {},
   "outputs": [
    {
     "name": "stdout",
     "output_type": "stream",
     "text": [
      "20251010\n"
     ]
    }
   ],
   "source": [
    "import datetime\n",
    "\n",
    "# Create the datetime.date object\n",
    "my_date = datetime.date(2025, 10, 10)\n",
    "\n",
    "# Convert the date object to the \"YYYYMMDD\" string format\n",
    "formatted_string = my_date.strftime(\"%Y%m%d\")\n",
    "\n",
    "# Print the result\n",
    "print(formatted_string)\n"
   ]
  }
 ],
 "metadata": {
  "kernelspec": {
   "display_name": "hiring_app",
   "language": "python",
   "name": "python3"
  },
  "language_info": {
   "codemirror_mode": {
    "name": "ipython",
    "version": 3
   },
   "file_extension": ".py",
   "mimetype": "text/x-python",
   "name": "python",
   "nbconvert_exporter": "python",
   "pygments_lexer": "ipython3",
   "version": "3.13.8"
  }
 },
 "nbformat": 4,
 "nbformat_minor": 5
}
