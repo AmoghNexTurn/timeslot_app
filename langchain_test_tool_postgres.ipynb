{
 "cells": [
  {
   "cell_type": "code",
   "execution_count": null,
   "id": "46ccea55",
   "metadata": {},
   "outputs": [],
   "source": [
    "import os\n",
    "import psycopg2\n",
    "import requests\n",
    "import json\n",
    "from flask import Flask, jsonify, request\n",
    "from langchain.chat_models import init_chat_model\n",
    "from langchain_core.messages import AIMessage, HumanMessage, SystemMessage\n",
    "from langchain_core.prompts import ChatPromptTemplate, MessagesPlaceholder\n",
    "from langchain_core.tools import tool\n",
    "from langgraph.checkpoint.memory import MemorySaver\n",
    "from langgraph.graph import START, MessagesState, StateGraph\n",
    "from langchain_core.messages import HumanMessage\n",
    "from langgraph.prebuilt import create_react_agent\n",
    "from langchain_groq import ChatGroq\n",
    "from dotenv import load_dotenv\n",
    "load_dotenv()\n",
    "\n",
    "GROQ_API_KEY = os.getenv(\"GROQ_API_KEY\")\n",
    "llm = ChatGroq(\n",
    "  model=\"moonshotai/kimi-k2-instruct-0905\",\n",
    "  groq_api_key=GROQ_API_KEY,\n",
    "  temperature=0,\n",
    ")\n",
    "from langchain.chat_models import init_chat_model\n",
    "\n",
    "import getpass\n",
    "import os\n",
    "\n",
    "if not os.environ.get(\"GROQ_API_KEY\"):\n",
    "  os.environ[\"GROQ_API_KEY\"] = getpass.getpass(\"Enter API key for Groq: \")\n",
    "\n",
    "\n"
   ]
  },
  {
   "cell_type": "code",
   "execution_count": 2,
   "id": "3bf3cf2c",
   "metadata": {},
   "outputs": [],
   "source": [
    "def get_db_connection():\n",
    "    conn = psycopg2.connect(\n",
    "        host='localhost',\n",
    "        dbname=os.getenv('POSTGRES_DB'),\n",
    "        user=os.getenv('POSTGRES_USER'),\n",
    "        password=os.getenv('POSTGRES_PASSWORD')\n",
    "    )\n",
    "    return conn"
   ]
  },
  {
   "cell_type": "code",
   "execution_count": 26,
   "id": "5fe913e0",
   "metadata": {},
   "outputs": [
    {
     "data": {
      "text/plain": [
       "[(1,\n",
       "  'nexturn',\n",
       "  'xyz',\n",
       "  datetime.date(2025, 10, 10),\n",
       "  datetime.date(2025, 10, 20),\n",
       "  [[-1, -1], [9, 17], [9, 17], [9, 17], [9, 17], [-1, -1], [-1, -1]],\n",
       "  100)]"
      ]
     },
     "execution_count": 26,
     "metadata": {},
     "output_type": "execute_result"
    }
   ],
   "source": [
    "conn = get_db_connection()\n",
    "cur = conn.cursor()\n",
    "cur.execute(\"SELECT * FROM bookings;\")\n",
    "users = cur.fetchall()\n",
    "cur.close()\n",
    "conn.close()\n",
    "users\n",
    "# json.dumps(users)"
   ]
  },
  {
   "cell_type": "code",
   "execution_count": 30,
   "id": "b6de64dc",
   "metadata": {},
   "outputs": [
    {
     "data": {
      "text/plain": [
       "datetime.date(2025, 10, 10)"
      ]
     },
     "execution_count": 30,
     "metadata": {},
     "output_type": "execute_result"
    }
   ],
   "source": [
    "from datetime import datetime \n",
    "date_object = datetime.strptime(\"20251010\", '%Y%m%d').date()\n",
    "date_object\n"
   ]
  },
  {
   "cell_type": "code",
   "execution_count": 59,
   "id": "7c7f9bf9",
   "metadata": {},
   "outputs": [],
   "source": [
    "from datetime import datetime\n",
    "\n",
    "def slot_not_inside(slots1, slots2):\n",
    "    for i in range(7):\n",
    "        if not (slots2[i][0] <= slots1[i][0] <= slots1[i][1] <= slots2[i][1]):\n",
    "            return True\n",
    "    return False\n",
    "\n",
    "def slot_overlap(slots1, slots2):\n",
    "    for i in range(7):\n",
    "        if (slots1[i][0] == -1 and slots1[i][1] == -1) or (slots2[i][0] == -1 and slots2[i][1] == -1):\n",
    "            continue\n",
    "        if (slots2[i][0] <= slots1[i][0] <= slots2[i][1]) or (slots2[i][0] <= slots1[i][1] <= slots2[i][1]):\n",
    "            return True\n",
    "    return False\n",
    "\n",
    "def date_overlap(start_date1, end_date1, start_date2, end_date2):\n",
    "    return start_date1 <= end_date2 and start_date2 <= end_date1\n",
    "\n",
    "def conflict(StartDate: str, EndDate: str, HoursBooked: list, WorkerName: str) -> bool:\n",
    "    \"\"\"Function to check for conflicts in bookings\"\"\"\n",
    "    for h in range(len(HoursBooked)):\n",
    "        if len(HoursBooked[h]) == 0:\n",
    "            HoursBooked[h] = [-1, -1]\n",
    "    conn = get_db_connection()\n",
    "    cur = conn.cursor()\n",
    "    cur.execute(\"Select AvailableHours from availability where WorkerName = %s;\", (WorkerName,))\n",
    "    availability = cur.fetchone()[0]\n",
    "    if slot_not_inside(HoursBooked, availability):\n",
    "        return True\n",
    "    cur.execute(\"SELECT StartDate, EndDate, HoursBooked from bookings where WorkerName = %s;\", (WorkerName,))\n",
    "    bookings = cur.fetchall()\n",
    "    StartDate = datetime.strptime(StartDate, '%Y%m%d').date()\n",
    "    EndDate = datetime.strptime(EndDate, '%Y%m%d').date()\n",
    "    for b in bookings:\n",
    "        if date_overlap(StartDate, EndDate, b[0], b[1]) and slot_overlap(HoursBooked, b[2]):\n",
    "            print(\"Conflict with booking:\", b, StartDate, EndDate, HoursBooked)\n",
    "            return True\n",
    "    return False\n"
   ]
  },
  {
   "cell_type": "code",
   "execution_count": 73,
   "id": "ca5fda33",
   "metadata": {},
   "outputs": [],
   "source": [
    "def get_data(table: str) -> str:\n",
    "    \"\"\"Return info of all users from given table\"\"\"\n",
    "    conn = get_db_connection()\n",
    "    cur = conn.cursor()\n",
    "    cur.execute(\"SELECT * FROM %s;\" % (table,))\n",
    "    content = cur.fetchall()\n",
    "    cur.close()\n",
    "    conn.close()\n",
    "    if content is None:\n",
    "        return 'No data found'\n",
    "    return content\n",
    "\n",
    "def add_user(UserName: str, UserPassword: str, UserType: str, Classification: str) -> str:\n",
    "    \"\"\"Function to add a user to the users table\"\"\"\n",
    "    conn = get_db_connection()\n",
    "    cur = conn.cursor()\n",
    "    cur.execute(\"INSERT INTO users (UserName, UserPassword, UserType, Classification) VALUES (%s, %s, %s, %s);\", (UserName, UserPassword, UserType, Classification))\n",
    "    conn.commit()\n",
    "    cur.close()\n",
    "    conn.close()\n",
    "    return 'User added successfully'\n",
    "\n",
    "def add_booking(BidderName: str, WorkerName: str, StartDate: str, EndDate: str, HoursBooked: list, HourlyRate: str) -> str:\n",
    "    \"\"\"Function to add a booking to the bookings table. Hours booked is a list of 7 lists, each containing start and end hours for each day of the week, beginning from Monday. for example, [[9,17], [], [], [], [], [10,16], []] means monday 9am to 5pm and and saturday 10 am to 4pm \"\"\"\n",
    "    for h in range(len(HoursBooked)):\n",
    "        if len(HoursBooked[h]) == 0:\n",
    "            HoursBooked[h] = [-1, -1]\n",
    "    conn = get_db_connection()\n",
    "    cur = conn.cursor()\n",
    "    if conflict(StartDate, EndDate, HoursBooked, WorkerName):\n",
    "        return 'Booking conflict detected'\n",
    "    cur.execute(\"INSERT INTO bookings (BidderName, WorkerName, StartDate, EndDate, HoursBooked, HourlyRate) VALUES (%s, %s, %s, %s, %s, %s);\", (BidderName, WorkerName, StartDate, EndDate, HoursBooked, HourlyRate))\n",
    "    conn.commit()\n",
    "    cur.close()\n",
    "    conn.close()\n",
    "    return 'Booking added successfully'\n",
    "\n",
    "def add_availability(WorkerName: str, AvailableHours: list) -> str:\n",
    "    \"\"\"Function to add availability to the availability table when a worker type user adds their available hours. Available Hours is a list of 7 lists, each containing start and end hours for each day of the week, beginning from Monday. for example, [[9,17], [], [], [], [], [10,16], []] means monday 9am to 5pm and and saturday 10 am to 4pm \"\"\"\n",
    "    for h in range(len(AvailableHours)):\n",
    "        if len(AvailableHours[h]) == 0:\n",
    "            AvailableHours[h] = [-1, -1]\n",
    "    conn = get_db_connection()\n",
    "    cur = conn.cursor()\n",
    "    cur.execute(\"INSERT INTO availability (WorkerName, AvailableHours) VALUES (%s, %s);\", (WorkerName, AvailableHours))\n",
    "    conn.commit()\n",
    "    cur.close()\n",
    "    conn.close()\n",
    "    return 'Availability added successfully'\n",
    "\n",
    "def check_availability(classification: str, StartDate: str, EndDate: str, HoursBooked: list) -> str:\n",
    "    \"\"\"Function to check availability of workers based on classification and booking hours. Hours booked is a list of 7 lists, each containing start and end hours for each day of the week, beginning from Monday. for example, [[9,17], [], [], [], [], [10,16], []] means monday 9am to 5pm and and saturday 10 am to 4pm \"\"\"\n",
    "    for h in range(len(HoursBooked)):\n",
    "        if len(HoursBooked[h]) == 0:\n",
    "            HoursBooked[h] = [-1, -1]\n",
    "    conn = get_db_connection()\n",
    "    cur = conn.cursor()\n",
    "    cur.execute(\"SELECT UserName from users where usertype='worker' and classification = %s;\", (classification,))\n",
    "    workers = cur.fetchall()\n",
    "    for w in workers:\n",
    "        name = w[0]\n",
    "        if conflict(StartDate, EndDate, HoursBooked, name):\n",
    "            workers.remove(w)\n",
    "    conn.commit()\n",
    "    cur.close()\n",
    "    conn.close()\n",
    "    if len(workers) == 0:\n",
    "        return 'No workers available'\n",
    "    return workers\n",
    "\n",
    "agent = create_react_agent(\n",
    "    model=llm,\n",
    "    tools=[get_data, add_user, add_booking, add_availability, check_availability],\n",
    "    prompt=\"You are a postgres database management interface. If you can do multiple operations, do them all one by one, and return concise outputs.\"\n",
    ")\n"
   ]
  },
  {
   "cell_type": "code",
   "execution_count": 63,
   "id": "61c5d051",
   "metadata": {},
   "outputs": [],
   "source": [
    "# # Run the agent\n",
    "# agent.invoke(\n",
    "#     {\"messages\": [{\"role\": \"user\", \"content\": '''{\n",
    "#         \"operation\": \"add user\",\n",
    "#         \"name\": \"def\",\n",
    "#         \"password\": \"def123\",\n",
    "#         \"type\": \"worker\",\n",
    "#         \"AvailableHours\": Monday, Wednesday and Fridays from 10am to 6pm,\n",
    "#         \"classification\": \"developer\"\n",
    "#     }'''}]\n",
    "#     }\n",
    "# )"
   ]
  },
  {
   "cell_type": "code",
   "execution_count": 64,
   "id": "db8066b1",
   "metadata": {},
   "outputs": [],
   "source": [
    "# # Run the agent\n",
    "# agent.invoke(\n",
    "#     {\"messages\": [{\"role\": \"user\", \"content\": '''{\n",
    "#         \"operation\": \"check availability\",\n",
    "#         \"StartDate\": 20251010,\n",
    "#         \"EndDate\": 20251020,\n",
    "#         \"HoursBooked\": [[], [9,17], [9,17], [9,17], [9,17], [], []],\n",
    "#         \"classification\": \"developer\"\n",
    "\n",
    "#     }'''}]\n",
    "#     }\n",
    "# )"
   ]
  },
  {
   "cell_type": "code",
   "execution_count": 65,
   "id": "9b9c8cd6",
   "metadata": {},
   "outputs": [],
   "source": [
    "# add_availability(\"Alice\", [[], [9, 17], [9, 17], [9, 17], [9, 17], [], []])"
   ]
  },
  {
   "cell_type": "code",
   "execution_count": 66,
   "id": "e208fbc5",
   "metadata": {},
   "outputs": [],
   "source": [
    "# agent.invoke(\n",
    "#     {\"messages\": [{\"role\": \"user\", \"content\": \"Get all data from the tables users\"}]}\n",
    "# )\n"
   ]
  },
  {
   "cell_type": "code",
   "execution_count": 67,
   "id": "a2a07b1d",
   "metadata": {},
   "outputs": [],
   "source": [
    "# # Run the agent\n",
    "# agent.invoke(\n",
    "#     {\"messages\": [{\"role\": \"user\", \"content\": '''{\n",
    "#         \"operation\": \"add user\",\n",
    "#         \"name\": \"nexturn\",\n",
    "#         \"password\": \"nexturn123\",\n",
    "#         \"type\": \"bidder\",\n",
    "#         \"classification\": \"tech\"\n",
    "#     }'''}]\n",
    "#     }\n",
    "# )"
   ]
  },
  {
   "cell_type": "code",
   "execution_count": 68,
   "id": "b78866d7",
   "metadata": {},
   "outputs": [],
   "source": [
    "# # Run the agent\n",
    "# agent.invoke(\n",
    "#     {\"messages\": [{\"role\": \"user\", \"content\": '''{\n",
    "#         \"operation\": \"add user\",\n",
    "#         \"name\": \"xyz\",\n",
    "#         \"password\": \"xyz123\",\n",
    "#         \"type\": \"worker\",\n",
    "#         \"AvailableHours\": [[], [9,17], [9,17], [9,17], [9,17], [], []],\n",
    "#         \"classification\": \"developer\"\n",
    "#     }'''}]\n",
    "#     }\n",
    "# )"
   ]
  },
  {
   "cell_type": "code",
   "execution_count": 72,
   "id": "9e55a99c",
   "metadata": {},
   "outputs": [
    {
     "data": {
      "text/plain": [
       "{'messages': [HumanMessage(content='{\\n        \"operation\": \"add booking\",\\n        \"BidderName\": \"nexturn\",\\n        \"Workername\": \"abc\",\\n        \"StartDate\": 20251021,\\n        \"EndDate\": 20251030,\\n        \"HoursBooked\": Tuesday to Friday from 10am to 3pm,\\n        \"HourlyRate\": 100\\n    }', additional_kwargs={}, response_metadata={}, id='baaa8ad8-9241-4ba9-acc1-0cc0dd25a1a2'),\n",
       "  AIMessage(content=\"I'll help you add this booking to the database. First, let me convert the hours format to the required structure, then add the booking.\", additional_kwargs={'tool_calls': [{'id': 'functions.add_booking:0', 'function': {'arguments': '{\"BidderName\":\"nexturn\",\"EndDate\":\"20251030\",\"HourlyRate\":\"100\",\"HoursBooked\":[[],[\"10:00\",\"15:00\"],[\"10:00\",\"15:00\"],[\"10:00\",\"15:00\"],[\"10:00\",\"15:00\"],[],[]],\"StartDate\":\"20251021\",\"WorkerName\":\"abc\"}', 'name': 'add_booking'}, 'type': 'function'}]}, response_metadata={'token_usage': {'completion_tokens': 132, 'prompt_tokens': 708, 'total_tokens': 840, 'completion_time': 0.401135017, 'prompt_time': 0.020648691, 'queue_time': 0.255125838, 'total_time': 0.421783708, 'prompt_tokens_details': {'cached_tokens': 512}}, 'model_name': 'moonshotai/kimi-k2-instruct-0905', 'system_fingerprint': 'fp_3312304636', 'service_tier': 'on_demand', 'finish_reason': 'tool_calls', 'logprobs': None}, id='run--c878cf17-f58a-4fbe-b3ca-b0af6e972b04-0', tool_calls=[{'name': 'add_booking', 'args': {'BidderName': 'nexturn', 'EndDate': '20251030', 'HourlyRate': '100', 'HoursBooked': [[], ['10:00', '15:00'], ['10:00', '15:00'], ['10:00', '15:00'], ['10:00', '15:00'], [], []], 'StartDate': '20251021', 'WorkerName': 'abc'}, 'id': 'functions.add_booking:0', 'type': 'tool_call'}], usage_metadata={'input_tokens': 708, 'output_tokens': 132, 'total_tokens': 840}),\n",
       "  ToolMessage(content='Error: TypeError(\"\\'<=\\' not supported between instances of \\'int\\' and \\'str\\'\")\\n Please fix your mistakes.', name='add_booking', id='3358fed4-dd5d-411a-81f8-c6dedab4884c', tool_call_id='functions.add_booking:0', status='error'),\n",
       "  AIMessage(content='Let me fix the date format issue:', additional_kwargs={'tool_calls': [{'id': 'functions.add_booking:1', 'function': {'arguments': '{\"BidderName\":\"nexturn\",\"EndDate\":\"2025-10-30\",\"HourlyRate\":\"100\",\"HoursBooked\":[[],[\"10:00\",\"15:00\"],[\"10:00\",\"15:00\"],[\"10:00\",\"15:00\"],[\"10:00\",\"15:00\"],[],[]],\"StartDate\":\"2025-10-21\",\"WorkerName\":\"abc\"}', 'name': 'add_booking'}, 'type': 'function'}]}, response_metadata={'token_usage': {'completion_tokens': 118, 'prompt_tokens': 883, 'total_tokens': 1001, 'completion_time': 0.255684149, 'prompt_time': 0.070526658, 'queue_time': 0.247667657, 'total_time': 0.326210807, 'prompt_tokens_details': {'cached_tokens': 512}}, 'model_name': 'moonshotai/kimi-k2-instruct-0905', 'system_fingerprint': 'fp_05df423bab', 'service_tier': 'on_demand', 'finish_reason': 'tool_calls', 'logprobs': None}, id='run--2e718bc7-6ffd-4a26-8471-d774868335c9-0', tool_calls=[{'name': 'add_booking', 'args': {'BidderName': 'nexturn', 'EndDate': '2025-10-30', 'HourlyRate': '100', 'HoursBooked': [[], ['10:00', '15:00'], ['10:00', '15:00'], ['10:00', '15:00'], ['10:00', '15:00'], [], []], 'StartDate': '2025-10-21', 'WorkerName': 'abc'}, 'id': 'functions.add_booking:1', 'type': 'tool_call'}], usage_metadata={'input_tokens': 883, 'output_tokens': 118, 'total_tokens': 1001}),\n",
       "  ToolMessage(content='Error: TypeError(\"\\'<=\\' not supported between instances of \\'int\\' and \\'str\\'\")\\n Please fix your mistakes.', name='add_booking', id='5ee630f0-433d-4c03-a9ef-01f985f1723b', tool_call_id='functions.add_booking:1', status='error'),\n",
       "  AIMessage(content='Let me check the current data structure to understand the issue:', additional_kwargs={'tool_calls': [{'id': 'functions.get_data:2', 'function': {'arguments': '{\"table\":\"bookings\"}', 'name': 'get_data'}, 'type': 'function'}]}, response_metadata={'token_usage': {'completion_tokens': 30, 'prompt_tokens': 1044, 'total_tokens': 1074, 'completion_time': 0.113733085, 'prompt_time': 0.043610606, 'queue_time': 0.259761703, 'total_time': 0.157343691, 'prompt_tokens_details': {'cached_tokens': 512}}, 'model_name': 'moonshotai/kimi-k2-instruct-0905', 'system_fingerprint': 'fp_3312304636', 'service_tier': 'on_demand', 'finish_reason': 'tool_calls', 'logprobs': None}, id='run--ecd77608-a645-438b-a4ec-3ec24811b2bb-0', tool_calls=[{'name': 'get_data', 'args': {'table': 'bookings'}, 'id': 'functions.get_data:2', 'type': 'tool_call'}], usage_metadata={'input_tokens': 1044, 'output_tokens': 30, 'total_tokens': 1074}),\n",
       "  ToolMessage(content=\"[(1, 'nexturn', 'xyz', datetime.date(2025, 10, 10), datetime.date(2025, 10, 20), [[-1, -1], [9, 17], [9, 17], [9, 17], [9, 17], [-1, -1], [-1, -1]], 100), (2, 'nexturn', 'abc', datetime.date(2025, 10, 10), datetime.date(2025, 10, 20), [[-1, -1], [9, 17], [9, 17], [9, 17], [9, 17], [-1, -1], [-1, -1]], 100)]\", name='get_data', id='7dea9aa3-9b29-4d76-836e-979f349b1486', tool_call_id='functions.get_data:2'),\n",
       "  AIMessage(content='I see the issue. The hours need to be in integer format (24-hour format), not string format. Let me correct this:', additional_kwargs={'tool_calls': [{'id': 'functions.add_booking:3', 'function': {'arguments': '{\"BidderName\":\"nexturn\",\"EndDate\":\"2025-10-30\",\"HourlyRate\":\"100\",\"HoursBooked\":[[],[10,15],[10,15],[10,15],[10,15],[],[]],\"StartDate\":\"2025-10-21\",\"WorkerName\":\"abc\"}', 'name': 'add_booking'}, 'type': 'function'}]}, response_metadata={'token_usage': {'completion_tokens': 121, 'prompt_tokens': 1251, 'total_tokens': 1372, 'completion_time': 0.278057866, 'prompt_time': 0.04383212, 'queue_time': 0.240889819, 'total_time': 0.321889986, 'prompt_tokens_details': {'cached_tokens': 768}}, 'model_name': 'moonshotai/kimi-k2-instruct-0905', 'system_fingerprint': 'fp_05df423bab', 'service_tier': 'on_demand', 'finish_reason': 'tool_calls', 'logprobs': None}, id='run--29765667-bfc0-407e-a946-518ec1041561-0', tool_calls=[{'name': 'add_booking', 'args': {'BidderName': 'nexturn', 'EndDate': '2025-10-30', 'HourlyRate': '100', 'HoursBooked': [[], [10, 15], [10, 15], [10, 15], [10, 15], [], []], 'StartDate': '2025-10-21', 'WorkerName': 'abc'}, 'id': 'functions.add_booking:3', 'type': 'tool_call'}], usage_metadata={'input_tokens': 1251, 'output_tokens': 121, 'total_tokens': 1372}),\n",
       "  ToolMessage(content='Error: ValueError(\"time data \\'2025-10-21\\' does not match format \\'%Y%m%d\\'\")\\n Please fix your mistakes.', name='add_booking', id='6463d053-d566-49e0-93a2-cae17662817a', tool_call_id='functions.add_booking:3', status='error'),\n",
       "  AIMessage(content='Let me try with the correct date format:', additional_kwargs={'tool_calls': [{'id': 'functions.add_booking:4', 'function': {'arguments': '{\"BidderName\":\"nexturn\",\"EndDate\":\"20251030\",\"HourlyRate\":\"100\",\"HoursBooked\":[[],[10,15],[10,15],[10,15],[10,15],[],[]],\"StartDate\":\"20251021\",\"WorkerName\":\"abc\"}', 'name': 'add_booking'}, 'type': 'function'}]}, response_metadata={'token_usage': {'completion_tokens': 97, 'prompt_tokens': 1436, 'total_tokens': 1533, 'completion_time': 0.214266702, 'prompt_time': 0.038176623, 'queue_time': 0.259807786, 'total_time': 0.252443325, 'prompt_tokens_details': {'cached_tokens': 1024}}, 'model_name': 'moonshotai/kimi-k2-instruct-0905', 'system_fingerprint': 'fp_3312304636', 'service_tier': 'on_demand', 'finish_reason': 'tool_calls', 'logprobs': None}, id='run--58fc30a7-33e1-41b6-9e53-b455dd5859d9-0', tool_calls=[{'name': 'add_booking', 'args': {'BidderName': 'nexturn', 'EndDate': '20251030', 'HourlyRate': '100', 'HoursBooked': [[], [10, 15], [10, 15], [10, 15], [10, 15], [], []], 'StartDate': '20251021', 'WorkerName': 'abc'}, 'id': 'functions.add_booking:4', 'type': 'tool_call'}], usage_metadata={'input_tokens': 1436, 'output_tokens': 97, 'total_tokens': 1533}),\n",
       "  ToolMessage(content='Booking added successfully', name='add_booking', id='3bbe0e6e-6767-43eb-bca9-9b6fb09731e4', tool_call_id='functions.add_booking:4'),\n",
       "  AIMessage(content='Booking added successfully! The booking has been created with:\\n- Bidder: nexturn\\n- Worker: abc\\n- Date range: October 21-30, 2025\\n- Hours: Tuesday to Friday, 10am-3pm\\n- Hourly rate: $100', additional_kwargs={}, response_metadata={'token_usage': {'completion_tokens': 59, 'prompt_tokens': 1570, 'total_tokens': 1629, 'completion_time': 0.171974105, 'prompt_time': 0.049301172, 'queue_time': 0.241357207, 'total_time': 0.221275277, 'prompt_tokens_details': {'cached_tokens': 1280}}, 'model_name': 'moonshotai/kimi-k2-instruct-0905', 'system_fingerprint': 'fp_05df423bab', 'service_tier': 'on_demand', 'finish_reason': 'stop', 'logprobs': None}, id='run--72871cfe-ac6f-4c71-bc6f-d61847fa4d58-0', usage_metadata={'input_tokens': 1570, 'output_tokens': 59, 'total_tokens': 1629})]}"
      ]
     },
     "execution_count": 72,
     "metadata": {},
     "output_type": "execute_result"
    }
   ],
   "source": [
    "# Run the agent\n",
    "agent.invoke(\n",
    "    {\"messages\": [{\"role\": \"user\", \"content\": '''{\n",
    "        \"operation\": \"add booking\",\n",
    "        \"BidderName\": \"nexturn\",\n",
    "        \"Workername\": \"abc\",\n",
    "        \"StartDate\": 20251021,\n",
    "        \"EndDate\": 20251030,\n",
    "        \"HoursBooked\": Tuesday to Friday from 10am to 3pm,\n",
    "        \"HourlyRate\": 100\n",
    "    }'''}]\n",
    "    }\n",
    ")"
   ]
  },
  {
   "cell_type": "code",
   "execution_count": 56,
   "id": "d95ec4c8",
   "metadata": {},
   "outputs": [
    {
     "name": "stdout",
     "output_type": "stream",
     "text": [
      "Here are all users in the `users` table:\n",
      "\n",
      "| UserID | UserName | Password   | UserType | Classification |\n",
      "|--------|----------|------------|----------|------------------|\n",
      "| 1      | nexturn  | nexturn123 | bidder   | tech             |\n",
      "| 2      | xyz      | xyz123     | worker   | developer        |\n"
     ]
    }
   ],
   "source": [
    "response = agent.invoke(\n",
    "    {\"messages\": [{\"role\": \"user\", \"content\": '''{\n",
    "        \"operation\": \"get\",\n",
    "        \"table\": \"users\"\n",
    "    }'''}]\n",
    "    }\n",
    ")\n",
    "print(response[\"messages\"][-1].content)"
   ]
  },
  {
   "cell_type": "code",
   "execution_count": 147,
   "id": "6f030343",
   "metadata": {},
   "outputs": [],
   "source": [
    "from datetime import datetime, timedelta\n",
    "\n",
    "def previous_monday(date_int):\n",
    "    date = datetime.strptime(str(date_int), \"%Y%m%d\")\n",
    "    days_to_subtract = (date.weekday())\n",
    "    previous_monday_date = date - timedelta(days=days_to_subtract)\n",
    "    return int(previous_monday_date.strftime(\"%Y%m%d\"))\n",
    "\n",
    "def expand_slots(slots):\n",
    "    result = []\n",
    "    for start, end in slots:\n",
    "        result.extend(range(start, end + 1))\n",
    "    return result\n",
    "\n",
    "def expand_slots_duration(slots, basedate, start_date, duration):\n",
    "    basedate_date = datetime.strptime(str(basedate), \"%Y%m%d\")\n",
    "    start_date_date = datetime.strptime(str(start_date), \"%Y%m%d\")\n",
    "    end_date_date = datetime.strptime(str(basedate), \"%Y%m%d\") + timedelta(weeks=duration)\n",
    "    diff_days = (start_date_date - basedate_date).days*24\n",
    "    days = end_date_date - start_date_date\n",
    "    result = []\n",
    "    for i in range(((end_date_date - basedate_date).days + 1)*24):\n",
    "        if i >= diff_days:\n",
    "            for start, end in slots:\n",
    "                if start <= i % 168 <= end:\n",
    "                    result.append(i)\n",
    "    return result\n",
    "\n",
    "\n",
    "def has_overlap(slots1, slots2):\n",
    "    return not set(slots1).isdisjoint(set(slots2))\n",
    "\n",
    "def check_booking_overlap(search_slots, search_start_date, search_duration, booking_slots, booking_start_date, booking_duration):\n",
    "    basedate = previous_monday(min(search_start_date, booking_start_date))\n",
    "    search_slots_expanded = expand_slots_duration(search_slots, basedate, search_start_date, search_duration)\n",
    "    booking_slots_expanded = expand_slots_duration(booking_slots, basedate, booking_start_date, booking_duration)\n",
    "    return has_overlap(search_slots_expanded, booking_slots_expanded)\n",
    "\n",
    "def check_admin_overlap(search_slots, admin_slots):\n",
    "    return has_overlap(expand_slots(search_slots), expand_slots(admin_slots))"
   ]
  },
  {
   "cell_type": "code",
   "execution_count": 161,
   "id": "748844e5",
   "metadata": {},
   "outputs": [
    {
     "data": {
      "text/plain": [
       "'[]'"
      ]
     },
     "execution_count": 161,
     "metadata": {},
     "output_type": "execute_result"
    }
   ],
   "source": [
    "def search_booking(Position: str, Slots: list, StartDate: str, Duration: int) -> str:\n",
    "    \"\"\"Function to search for bookings based on position and slots\"\"\"\n",
    "    conn = get_db_connection()\n",
    "    cur = conn.cursor()\n",
    "    cur.execute(\"SELECT WorkerName from workers where Position = %s;\", (Position,))\n",
    "    worker = cur.fetchall()\n",
    "    worker_names = [w[0] for w in worker]\n",
    "    cur.execute(\"Select WorkerName, slots from bookings where WorkerName = ANY(%s) and BidderName = 'admin';\", (worker_names,))\n",
    "    slots = cur.fetchall()\n",
    "    for s in slots:\n",
    "        if check_admin_overlap(Slots, s[1]):\n",
    "            worker_names.remove(s[0])\n",
    "    cur.execute(\"Select WorkerName, slots, startdate, duration from bookings where WorkerName = ANY(%s) and BidderName != 'admin';\", (worker_names,))\n",
    "    slots = cur.fetchall()\n",
    "    for s in slots:\n",
    "        search_slots = Slots\n",
    "        search_start_date = int(StartDate)\n",
    "        search_duration = Duration\n",
    "        booking_slots = s[1]\n",
    "        booking_start_date = int(s[2].strftime('%Y%m%d'))\n",
    "        booking_duration = s[3]\n",
    "        if check_booking_overlap(search_slots, search_start_date, search_duration, booking_slots, booking_start_date, booking_duration):\n",
    "            worker_names.remove(s[0])\n",
    "    # print(\"Available workers:\", worker_names)\n",
    "    cur.close()\n",
    "    conn.close()\n",
    "    return json.dumps(worker_names)\n",
    "\n",
    "search_booking(\"developer\", [[10, 18]], \"20250101\", 10)"
   ]
  }
 ],
 "metadata": {
  "kernelspec": {
   "display_name": "timeslot_app",
   "language": "python",
   "name": "python3"
  },
  "language_info": {
   "codemirror_mode": {
    "name": "ipython",
    "version": 3
   },
   "file_extension": ".py",
   "mimetype": "text/x-python",
   "name": "python",
   "nbconvert_exporter": "python",
   "pygments_lexer": "ipython3",
   "version": "3.13.8"
  }
 },
 "nbformat": 4,
 "nbformat_minor": 5
}
